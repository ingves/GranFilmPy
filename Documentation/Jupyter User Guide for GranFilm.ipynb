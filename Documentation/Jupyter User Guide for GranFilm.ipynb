{
 "cells": [
  {
   "cell_type": "markdown",
   "metadata": {},
   "source": [
    "# <center> <font color = \"blue\"> Tutorial : Run GranFilm on Python </font> </center>\n",
    "\n",
    "## I. What is GranFilm ?\n",
    "\n",
    "GranFilm is a Fortran90 software which computes the optical properties of a 2D lattice of nanoparticles supported by a substrate. <br>\n",
    "Basically, it returns the reflection / transmission coefficients over a certain spectral range and allows you to play on the geometry of the particles, the source and the materials that form the substrate and the particles.\n",
    "<br> <br>\n",
    "<b><font color = \"red\">CAUTION :</font></b> The theoretical calculations developped in GranFilm are valid when <font color = \"blue\"><b> the particles are much smaller than the wavelength </b></font> of the incident light.<br>\n",
    "At optical frequencies, GranFilm is not reliable above a few dozens of nanometers.\n",
    "\n",
    "<img src=\"./User_Guide/_static/granfilm_intro.png\" alt=\"Plasmonic systems modeled by GranFilm\" style=\"width: 500px;\"/>\n",
    "\n",
    "<center> <i>Figure 1 : Plasmonic systems modeled by GranFilm </i> </center>\n"
   ]
  },
  {
   "cell_type": "markdown",
   "metadata": {},
   "source": [
    "## II. How to use GranFilm ? \n",
    "### II.1 Import GranFilm on your python environment\n",
    "We will run GranFilm through a python interface that has been designed for it. Firstly, open your python environment (Sypder, IPython...) and run the file <font color = \"blue\"><b>Init_GranFilm.py</b></font> which is in the GranFilm package."
   ]
  },
  {
   "cell_type": "code",
   "execution_count": 30,
   "metadata": {
    "collapsed": false
   },
   "outputs": [],
   "source": [
    "# Run the file Init_GranFilm.py with the command %run (on IPython) or with F5 on Spyder\n",
    "%run ./Init_GranFilm.py"
   ]
  },
  {
   "cell_type": "markdown",
   "metadata": {},
   "source": [
    "### II.2 Create and configure a new simulation\n",
    "#### II.2.1 Internally in Python\n",
    "Basically, a simulation is represented by a python object which contains the parameters that you want for your system.\n",
    "<br>\n",
    "Once the python interface is imported, you can create a new simulation with the function <font color = \"blue\"><b> GranFilm</b></font>, whose arguments are the parameters of the simulation. "
   ]
  },
  {
   "cell_type": "code",
   "execution_count": 35,
   "metadata": {
    "collapsed": true
   },
   "outputs": [],
   "source": [
    "new_simulation = GranFilm()\n",
    "# A new simulation is created. As no parameters have been passed in the GranFilm function the system is set\n",
    "# with default parameters.\n",
    "\n",
    "new_simulation2 = GranFilm(radius=10.0,lattice_constant=30.0)\n",
    "# Here we precised 2 parameters of the system: the radius of the particles (10 nm) and the distance between\n",
    "# two particles of the lattice (30 nm). The other parameters are still set with default values."
   ]
  },
  {
   "cell_type": "markdown",
   "metadata": {
    "collapsed": true
   },
   "source": [
    "One can then use the function <font color = \"blue\"><b> my_simulation.param() </b></font> to print the entire configuration of the simulation."
   ]
  },
  {
   "cell_type": "code",
   "execution_count": 32,
   "metadata": {
    "collapsed": false,
    "scrolled": true
   },
   "outputs": [
    {
     "name": "stdout",
     "output_type": "stream",
     "text": [
      "&Global \n",
      "  granfilm_root     = 'C:/Users/A2487150/Desktop/GranFilm_Package/GranFilm_Windows' \n",
      "  sopra_root        = 'C:/Users/A2487150/Desktop/GranFilm_Package/SOPRA_DataBase/' \n",
      "/\n",
      "\n",
      "&Source \n",
      "  theta             = 45.0 \n",
      "  phi               = 0.0 \n",
      "  pol               = 'p' \n",
      "  energy_range      = [1.5, 5] \n",
      "/\n",
      "\n",
      "&Geometry \n",
      "  radius            = 8.0 \n",
      "  truncation_ratio  = 0.0 \n",
      "  broadening_par    = 0.0 \n",
      "  broadening_perp   = 0.0 \n",
      "  radius_ratios     = [1.0] \n",
      "  media             = \"air,mgo,ag,mgo\" \n",
      "/\n",
      "\n",
      "&Interaction \n",
      "  arrangement       = 'Lattice' \n",
      "  lattice_type      = 'Square' \n",
      "  island_island     = 'None' \n",
      "  lattice_constant  = 20.0 \n",
      "/\n",
      "\n",
      "&Curvefitting \n",
      "  lower_constraint  = [0.0, 0.0, 0.0] \n",
      "  upper_constraint  = [10000000000.0, 1.0, 10000000000.0] \n",
      "  sigma             = 0.005 \n",
      "  freeze_broadening = False \n",
      "/\n",
      "\n",
      "&Potential \n",
      "  points_file       = 'None' \n",
      "  energy            = [2.2] \n",
      "  area_ratio_pot    = 2.0 \n",
      "  number_pot_points = 300 \n",
      "/\n",
      "\n",
      "&Numerics \n",
      "  multip_pos_rat    = 0.0 \n",
      "  number_en_points  = 300 \n",
      "  multip_order      = 30 \n",
      "/\n",
      "\n",
      "&Media \n",
      "  materials         = ['air', 'mgo', 'ag', 'mgo'] \n",
      "  extra_parameters  = [{}, {}, {}, {}] \n",
      "/\n"
     ]
    }
   ],
   "source": [
    "new_simulation.param() # Print the configuration of new_simulation"
   ]
  },
  {
   "cell_type": "markdown",
   "metadata": {},
   "source": [
    "Here are all the parameters (set to their default values) that GranFilm needs to run a simulation. Except for the two first parameters (granfilm_root and sopra_root) that make the program works, you can set the others inside the GranFilm function.\n",
    "<br><br>\n",
    "Let's now take a look at the configuration of new_simulation2 !"
   ]
  },
  {
   "cell_type": "code",
   "execution_count": 33,
   "metadata": {
    "collapsed": false,
    "scrolled": true
   },
   "outputs": [
    {
     "name": "stdout",
     "output_type": "stream",
     "text": [
      "&Global \n",
      "  granfilm_root     = 'C:/Users/A2487150/Desktop/GranFilm_Package/GranFilm_Windows' \n",
      "  sopra_root        = 'C:/Users/A2487150/Desktop/GranFilm_Package/SOPRA_DataBase/' \n",
      "/\n",
      "\n",
      "&Source \n",
      "  theta             = 45.0 \n",
      "  phi               = 0.0 \n",
      "  pol               = 'p' \n",
      "  energy_range      = [1.5, 5] \n",
      "/\n",
      "\n",
      "&Geometry \n",
      "  radius            = 10.0 \n",
      "  truncation_ratio  = 0.0 \n",
      "  broadening_par    = 0.0 \n",
      "  broadening_perp   = 0.0 \n",
      "  radius_ratios     = [1.0] \n",
      "  media             = \"air,mgo,ag,mgo\" \n",
      "/\n",
      "\n",
      "&Interaction \n",
      "  arrangement       = 'Lattice' \n",
      "  lattice_type      = 'Square' \n",
      "  island_island     = 'None' \n",
      "  lattice_constant  = 30.0 \n",
      "/\n",
      "\n",
      "&Curvefitting \n",
      "  lower_constraint  = [0.0, 0.0, 0.0] \n",
      "  upper_constraint  = [10000000000.0, 1.0, 10000000000.0] \n",
      "  sigma             = 0.005 \n",
      "  freeze_broadening = False \n",
      "/\n",
      "\n",
      "&Potential \n",
      "  points_file       = 'None' \n",
      "  energy            = [2.2] \n",
      "  area_ratio_pot    = 2.0 \n",
      "  number_pot_points = 300 \n",
      "/\n",
      "\n",
      "&Numerics \n",
      "  multip_pos_rat    = 0.0 \n",
      "  number_en_points  = 300 \n",
      "  multip_order      = 30 \n",
      "/\n",
      "\n",
      "&Media \n",
      "  materials         = ['air', 'mgo', 'ag', 'mgo'] \n",
      "  extra_parameters  = [{}, {}, {}, {}] \n",
      "/\n"
     ]
    }
   ],
   "source": [
    "new_simulation2.param() # Print the configuration of new_simulation2"
   ]
  },
  {
   "cell_type": "markdown",
   "metadata": {},
   "source": [
    "We notice that the parameters haven't changed, except the  <font color = \"maroon\"><b> radius </b></font> (from 8 nm to 10 nm) and the  <font color = \"maroon\"><b> lattice_constant </b></font> (from 20 nm to 30 nm) since we precised their values in the code.\n",
    "\n",
    "#### II.2.2 From an external file\n",
    "\n",
    "Another way to initialize a simulation is from an external file containing its parameters. When executed, the Init_GranFilm.py file automatically creates a text file named <font color = \"blue\"><b> input_file </b></font>, filled with all the parameters and their default values (just as the output of new_simulation.param()).\n",
    "\n",
    "Likewise, a variable named <font color = \"blue\"><b> input_file </b></font> is defined in Python and contains the path to this file. Then you can create a new simulation by passing this variable into the keyword argument <font color = \"maroon\"><b> paramfile </b></font>.\n"
   ]
  },
  {
   "cell_type": "code",
   "execution_count": null,
   "metadata": {
    "collapsed": true
   },
   "outputs": [],
   "source": [
    "new_simulation3 = GranFilm(param_file=input_file) # Initializes a simulation from an external input file"
   ]
  },
  {
   "cell_type": "markdown",
   "metadata": {},
   "source": [
    "Once a simulation is created through the GranFilm function, it can be used as a python dictionnary to access / modify the values of the parameters.\n",
    "\n",
    "- Type <b><font color = \"blue\"> my_simulation.param</font>[\"<font color = \"maroon\">my_parameter</font>\"]</b>  to get its current value\n",
    "- Type <b><font color = \"blue\"> my_simulation.param</font>[\"<font color = \"maroon\">my_parameter</font>\"]</b> = <font color = \"green\"><b>parameter_value</b></font> to set its value.\n",
    "\n",
    "Actually, to get the wanted configuration you can either modify some parameters of an existing simulation or create a new one with the GranFilm function.<br>But if you only want to change one parameter of your current system, it is faster to use the dictionary command."
   ]
  },
  {
   "cell_type": "code",
   "execution_count": 43,
   "metadata": {
    "collapsed": false
   },
   "outputs": [
    {
     "name": "stdout",
     "output_type": "stream",
     "text": [
      "Old radius = 12.0\n",
      "New radius = 12.0\n"
     ]
    }
   ],
   "source": [
    "# Let's assume that I want to set the radius to 12 nanometers and the lattice_constant to 30 nm (other parameters\n",
    "# are at their default values).\n",
    "\n",
    "# I can initialize a new simulation (named \"gf\") like this\n",
    "gf = GranFilm(radius=12.0,lattice_constant=30.0)\n",
    "\n",
    "# Or modify \"new_simulation2\", which is faster since you don't have to precise the parameters which are already\n",
    "# well defined (like the lattice_constant)\n",
    "\n",
    "old_radius = new_simulation2.param[\"radius\"]\n",
    "print(\"Old radius = {}\".format(old_radius)) # Print the old radius\n",
    "\n",
    "new_simulation2.param[\"radius\"] = 12.0 # Set the radius to 12 nm\n",
    "\n",
    "new_radius = new_simulation2.param[\"radius\"]\n",
    "print(\"New radius = {}\".format(new_radius)) # Print the new radius"
   ]
  },
  {
   "cell_type": "markdown",
   "metadata": {},
   "source": [
    "### II.3 What do all these parameters mean ?\n",
    "\n",
    "As you can see there are around 30 parameters that are defined in the input file. However in practice some are not properly implemented yet or not often used. I will describe below the parameters that you may need the most.\n",
    "\n"
   ]
  }
 ],
 "metadata": {
  "kernelspec": {
   "display_name": "Python 2",
   "language": "python",
   "name": "python2"
  },
  "language_info": {
   "codemirror_mode": {
    "name": "ipython",
    "version": 2
   },
   "file_extension": ".py",
   "mimetype": "text/x-python",
   "name": "python",
   "nbconvert_exporter": "python",
   "pygments_lexer": "ipython2",
   "version": "2.7.10"
  }
 },
 "nbformat": 4,
 "nbformat_minor": 2
}
